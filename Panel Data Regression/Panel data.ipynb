{
 "cells": [
  {
   "cell_type": "markdown",
   "id": "c088f865",
   "metadata": {},
   "source": [
    "## Importing Dataset"
   ]
  },
  {
   "cell_type": "markdown",
   "id": "4c4feed7",
   "metadata": {},
   "source": [
    "Installing Necessary Libraries"
   ]
  },
  {
   "cell_type": "code",
   "execution_count": null,
   "id": "22d81ed4",
   "metadata": {},
   "outputs": [],
   "source": [
    "# !pip install linearmodels\n",
    "# !pip install statsmodels"
   ]
  },
  {
   "cell_type": "code",
   "execution_count": 1,
   "id": "6056ab36",
   "metadata": {},
   "outputs": [],
   "source": [
    "import pandas as pd"
   ]
  },
  {
   "cell_type": "code",
   "execution_count": 2,
   "id": "6e265b0e",
   "metadata": {
    "scrolled": true
   },
   "outputs": [
    {
     "data": {
      "text/html": [
       "<div>\n",
       "<style scoped>\n",
       "    .dataframe tbody tr th:only-of-type {\n",
       "        vertical-align: middle;\n",
       "    }\n",
       "\n",
       "    .dataframe tbody tr th {\n",
       "        vertical-align: top;\n",
       "    }\n",
       "\n",
       "    .dataframe thead th {\n",
       "        text-align: right;\n",
       "    }\n",
       "</style>\n",
       "<table border=\"1\" class=\"dataframe\">\n",
       "  <thead>\n",
       "    <tr style=\"text-align: right;\">\n",
       "      <th></th>\n",
       "      <th>I</th>\n",
       "      <th>T</th>\n",
       "      <th>C</th>\n",
       "      <th>Q</th>\n",
       "      <th>PF</th>\n",
       "      <th>LF</th>\n",
       "    </tr>\n",
       "  </thead>\n",
       "  <tbody>\n",
       "    <tr>\n",
       "      <th>0</th>\n",
       "      <td>1</td>\n",
       "      <td>1</td>\n",
       "      <td>1140640</td>\n",
       "      <td>0.952757</td>\n",
       "      <td>106650</td>\n",
       "      <td>0.534487</td>\n",
       "    </tr>\n",
       "    <tr>\n",
       "      <th>1</th>\n",
       "      <td>1</td>\n",
       "      <td>2</td>\n",
       "      <td>1215690</td>\n",
       "      <td>0.986757</td>\n",
       "      <td>110307</td>\n",
       "      <td>0.532328</td>\n",
       "    </tr>\n",
       "    <tr>\n",
       "      <th>2</th>\n",
       "      <td>1</td>\n",
       "      <td>3</td>\n",
       "      <td>1309570</td>\n",
       "      <td>1.091980</td>\n",
       "      <td>110574</td>\n",
       "      <td>0.547736</td>\n",
       "    </tr>\n",
       "    <tr>\n",
       "      <th>3</th>\n",
       "      <td>1</td>\n",
       "      <td>4</td>\n",
       "      <td>1511530</td>\n",
       "      <td>1.175780</td>\n",
       "      <td>121974</td>\n",
       "      <td>0.540846</td>\n",
       "    </tr>\n",
       "    <tr>\n",
       "      <th>4</th>\n",
       "      <td>1</td>\n",
       "      <td>5</td>\n",
       "      <td>1676730</td>\n",
       "      <td>1.160170</td>\n",
       "      <td>196606</td>\n",
       "      <td>0.591167</td>\n",
       "    </tr>\n",
       "    <tr>\n",
       "      <th>...</th>\n",
       "      <td>...</td>\n",
       "      <td>...</td>\n",
       "      <td>...</td>\n",
       "      <td>...</td>\n",
       "      <td>...</td>\n",
       "      <td>...</td>\n",
       "    </tr>\n",
       "    <tr>\n",
       "      <th>85</th>\n",
       "      <td>6</td>\n",
       "      <td>11</td>\n",
       "      <td>381478</td>\n",
       "      <td>0.112640</td>\n",
       "      <td>874818</td>\n",
       "      <td>0.517766</td>\n",
       "    </tr>\n",
       "    <tr>\n",
       "      <th>86</th>\n",
       "      <td>6</td>\n",
       "      <td>12</td>\n",
       "      <td>506969</td>\n",
       "      <td>0.154154</td>\n",
       "      <td>1013170</td>\n",
       "      <td>0.580049</td>\n",
       "    </tr>\n",
       "    <tr>\n",
       "      <th>87</th>\n",
       "      <td>6</td>\n",
       "      <td>13</td>\n",
       "      <td>633388</td>\n",
       "      <td>0.186461</td>\n",
       "      <td>930477</td>\n",
       "      <td>0.556024</td>\n",
       "    </tr>\n",
       "    <tr>\n",
       "      <th>88</th>\n",
       "      <td>6</td>\n",
       "      <td>14</td>\n",
       "      <td>804388</td>\n",
       "      <td>0.246847</td>\n",
       "      <td>851676</td>\n",
       "      <td>0.537791</td>\n",
       "    </tr>\n",
       "    <tr>\n",
       "      <th>89</th>\n",
       "      <td>6</td>\n",
       "      <td>15</td>\n",
       "      <td>1009500</td>\n",
       "      <td>0.304013</td>\n",
       "      <td>819476</td>\n",
       "      <td>0.525775</td>\n",
       "    </tr>\n",
       "  </tbody>\n",
       "</table>\n",
       "<p>90 rows × 6 columns</p>\n",
       "</div>"
      ],
      "text/plain": [
       "    I   T        C         Q       PF        LF\n",
       "0   1   1  1140640  0.952757   106650  0.534487\n",
       "1   1   2  1215690  0.986757   110307  0.532328\n",
       "2   1   3  1309570  1.091980   110574  0.547736\n",
       "3   1   4  1511530  1.175780   121974  0.540846\n",
       "4   1   5  1676730  1.160170   196606  0.591167\n",
       ".. ..  ..      ...       ...      ...       ...\n",
       "85  6  11   381478  0.112640   874818  0.517766\n",
       "86  6  12   506969  0.154154  1013170  0.580049\n",
       "87  6  13   633388  0.186461   930477  0.556024\n",
       "88  6  14   804388  0.246847   851676  0.537791\n",
       "89  6  15  1009500  0.304013   819476  0.525775\n",
       "\n",
       "[90 rows x 6 columns]"
      ]
     },
     "execution_count": 2,
     "metadata": {},
     "output_type": "execute_result"
    }
   ],
   "source": [
    "\n",
    "dataset = pd.read_csv('PanelData.csv')\n",
    "dataset"
   ]
  },
  {
   "cell_type": "markdown",
   "id": "345262de",
   "metadata": {},
   "source": [
    "## Data Preprocessing"
   ]
  },
  {
   "cell_type": "markdown",
   "id": "a790dff0",
   "metadata": {},
   "source": [
    "Dimensions of the data"
   ]
  },
  {
   "cell_type": "code",
   "execution_count": 3,
   "id": "c0492317",
   "metadata": {},
   "outputs": [
    {
     "data": {
      "text/plain": [
       "(90, 6)"
      ]
     },
     "execution_count": 3,
     "metadata": {},
     "output_type": "execute_result"
    }
   ],
   "source": [
    "dataset.shape"
   ]
  },
  {
   "cell_type": "markdown",
   "id": "cc76d86f",
   "metadata": {},
   "source": [
    "Checking if there is any missing value"
   ]
  },
  {
   "cell_type": "code",
   "execution_count": 4,
   "id": "98fec48e",
   "metadata": {},
   "outputs": [
    {
     "data": {
      "text/plain": [
       "I     0\n",
       "T     0\n",
       "C     0\n",
       "Q     0\n",
       "PF    0\n",
       "LF    0\n",
       "dtype: int64"
      ]
     },
     "execution_count": 4,
     "metadata": {},
     "output_type": "execute_result"
    }
   ],
   "source": [
    "dataset.isnull().sum()"
   ]
  },
  {
   "cell_type": "markdown",
   "id": "b558d0a0",
   "metadata": {},
   "source": [
    "Thus, there are no null values in the dataset"
   ]
  },
  {
   "cell_type": "markdown",
   "id": "f9cfa9fa",
   "metadata": {},
   "source": [
    "Checking the types of the variables present"
   ]
  },
  {
   "cell_type": "code",
   "execution_count": 5,
   "id": "862938ce",
   "metadata": {},
   "outputs": [
    {
     "data": {
      "text/plain": [
       "I       int64\n",
       "T       int64\n",
       "C       int64\n",
       "Q     float64\n",
       "PF      int64\n",
       "LF    float64\n",
       "dtype: object"
      ]
     },
     "execution_count": 5,
     "metadata": {},
     "output_type": "execute_result"
    }
   ],
   "source": [
    "dataset.dtypes"
   ]
  },
  {
   "cell_type": "markdown",
   "id": "b7f7b0a7",
   "metadata": {},
   "source": [
    "**Reformatting our dataset**"
   ]
  },
  {
   "cell_type": "code",
   "execution_count": 6,
   "id": "e8a93b0b",
   "metadata": {},
   "outputs": [
    {
     "data": {
      "text/html": [
       "<div>\n",
       "<style scoped>\n",
       "    .dataframe tbody tr th:only-of-type {\n",
       "        vertical-align: middle;\n",
       "    }\n",
       "\n",
       "    .dataframe tbody tr th {\n",
       "        vertical-align: top;\n",
       "    }\n",
       "\n",
       "    .dataframe thead th {\n",
       "        text-align: right;\n",
       "    }\n",
       "</style>\n",
       "<table border=\"1\" class=\"dataframe\">\n",
       "  <thead>\n",
       "    <tr style=\"text-align: right;\">\n",
       "      <th></th>\n",
       "      <th></th>\n",
       "      <th>C</th>\n",
       "      <th>Q</th>\n",
       "      <th>PF</th>\n",
       "      <th>LF</th>\n",
       "      <th>I</th>\n",
       "    </tr>\n",
       "    <tr>\n",
       "      <th>I</th>\n",
       "      <th>T</th>\n",
       "      <th></th>\n",
       "      <th></th>\n",
       "      <th></th>\n",
       "      <th></th>\n",
       "      <th></th>\n",
       "    </tr>\n",
       "  </thead>\n",
       "  <tbody>\n",
       "    <tr>\n",
       "      <th rowspan=\"5\" valign=\"top\">1</th>\n",
       "      <th>1</th>\n",
       "      <td>1140640</td>\n",
       "      <td>0.952757</td>\n",
       "      <td>106650</td>\n",
       "      <td>0.534487</td>\n",
       "      <td>1</td>\n",
       "    </tr>\n",
       "    <tr>\n",
       "      <th>2</th>\n",
       "      <td>1215690</td>\n",
       "      <td>0.986757</td>\n",
       "      <td>110307</td>\n",
       "      <td>0.532328</td>\n",
       "      <td>1</td>\n",
       "    </tr>\n",
       "    <tr>\n",
       "      <th>3</th>\n",
       "      <td>1309570</td>\n",
       "      <td>1.091980</td>\n",
       "      <td>110574</td>\n",
       "      <td>0.547736</td>\n",
       "      <td>1</td>\n",
       "    </tr>\n",
       "    <tr>\n",
       "      <th>4</th>\n",
       "      <td>1511530</td>\n",
       "      <td>1.175780</td>\n",
       "      <td>121974</td>\n",
       "      <td>0.540846</td>\n",
       "      <td>1</td>\n",
       "    </tr>\n",
       "    <tr>\n",
       "      <th>5</th>\n",
       "      <td>1676730</td>\n",
       "      <td>1.160170</td>\n",
       "      <td>196606</td>\n",
       "      <td>0.591167</td>\n",
       "      <td>1</td>\n",
       "    </tr>\n",
       "    <tr>\n",
       "      <th>...</th>\n",
       "      <th>...</th>\n",
       "      <td>...</td>\n",
       "      <td>...</td>\n",
       "      <td>...</td>\n",
       "      <td>...</td>\n",
       "      <td>...</td>\n",
       "    </tr>\n",
       "    <tr>\n",
       "      <th rowspan=\"5\" valign=\"top\">6</th>\n",
       "      <th>11</th>\n",
       "      <td>381478</td>\n",
       "      <td>0.112640</td>\n",
       "      <td>874818</td>\n",
       "      <td>0.517766</td>\n",
       "      <td>6</td>\n",
       "    </tr>\n",
       "    <tr>\n",
       "      <th>12</th>\n",
       "      <td>506969</td>\n",
       "      <td>0.154154</td>\n",
       "      <td>1013170</td>\n",
       "      <td>0.580049</td>\n",
       "      <td>6</td>\n",
       "    </tr>\n",
       "    <tr>\n",
       "      <th>13</th>\n",
       "      <td>633388</td>\n",
       "      <td>0.186461</td>\n",
       "      <td>930477</td>\n",
       "      <td>0.556024</td>\n",
       "      <td>6</td>\n",
       "    </tr>\n",
       "    <tr>\n",
       "      <th>14</th>\n",
       "      <td>804388</td>\n",
       "      <td>0.246847</td>\n",
       "      <td>851676</td>\n",
       "      <td>0.537791</td>\n",
       "      <td>6</td>\n",
       "    </tr>\n",
       "    <tr>\n",
       "      <th>15</th>\n",
       "      <td>1009500</td>\n",
       "      <td>0.304013</td>\n",
       "      <td>819476</td>\n",
       "      <td>0.525775</td>\n",
       "      <td>6</td>\n",
       "    </tr>\n",
       "  </tbody>\n",
       "</table>\n",
       "<p>90 rows × 5 columns</p>\n",
       "</div>"
      ],
      "text/plain": [
       "            C         Q       PF        LF  I\n",
       "I T                                          \n",
       "1 1   1140640  0.952757   106650  0.534487  1\n",
       "  2   1215690  0.986757   110307  0.532328  1\n",
       "  3   1309570  1.091980   110574  0.547736  1\n",
       "  4   1511530  1.175780   121974  0.540846  1\n",
       "  5   1676730  1.160170   196606  0.591167  1\n",
       "...       ...       ...      ...       ... ..\n",
       "6 11   381478  0.112640   874818  0.517766  6\n",
       "  12   506969  0.154154  1013170  0.580049  6\n",
       "  13   633388  0.186461   930477  0.556024  6\n",
       "  14   804388  0.246847   851676  0.537791  6\n",
       "  15  1009500  0.304013   819476  0.525775  6\n",
       "\n",
       "[90 rows x 5 columns]"
      ]
     },
     "execution_count": 6,
     "metadata": {},
     "output_type": "execute_result"
    }
   ],
   "source": [
    "I = pd.Categorical(dataset['I'])\n",
    "dataset = dataset.set_index(['I', 'T'])\n",
    "dataset['I'] = I\n",
    "dataset"
   ]
  },
  {
   "cell_type": "markdown",
   "id": "e251a0b7",
   "metadata": {},
   "source": [
    "Basic description of the continuous variables"
   ]
  },
  {
   "cell_type": "code",
   "execution_count": 7,
   "id": "f0481744",
   "metadata": {},
   "outputs": [
    {
     "data": {
      "text/html": [
       "<div>\n",
       "<style scoped>\n",
       "    .dataframe tbody tr th:only-of-type {\n",
       "        vertical-align: middle;\n",
       "    }\n",
       "\n",
       "    .dataframe tbody tr th {\n",
       "        vertical-align: top;\n",
       "    }\n",
       "\n",
       "    .dataframe thead th {\n",
       "        text-align: right;\n",
       "    }\n",
       "</style>\n",
       "<table border=\"1\" class=\"dataframe\">\n",
       "  <thead>\n",
       "    <tr style=\"text-align: right;\">\n",
       "      <th></th>\n",
       "      <th>C</th>\n",
       "      <th>Q</th>\n",
       "      <th>PF</th>\n",
       "      <th>LF</th>\n",
       "    </tr>\n",
       "  </thead>\n",
       "  <tbody>\n",
       "    <tr>\n",
       "      <th>count</th>\n",
       "      <td>9.000000e+01</td>\n",
       "      <td>90.000000</td>\n",
       "      <td>9.000000e+01</td>\n",
       "      <td>90.000000</td>\n",
       "    </tr>\n",
       "    <tr>\n",
       "      <th>mean</th>\n",
       "      <td>1.122524e+06</td>\n",
       "      <td>0.544995</td>\n",
       "      <td>4.716830e+05</td>\n",
       "      <td>0.560460</td>\n",
       "    </tr>\n",
       "    <tr>\n",
       "      <th>std</th>\n",
       "      <td>1.192075e+06</td>\n",
       "      <td>0.533586</td>\n",
       "      <td>3.295029e+05</td>\n",
       "      <td>0.052793</td>\n",
       "    </tr>\n",
       "    <tr>\n",
       "      <th>min</th>\n",
       "      <td>6.897800e+04</td>\n",
       "      <td>0.037682</td>\n",
       "      <td>1.037950e+05</td>\n",
       "      <td>0.432066</td>\n",
       "    </tr>\n",
       "    <tr>\n",
       "      <th>25%</th>\n",
       "      <td>2.920460e+05</td>\n",
       "      <td>0.142128</td>\n",
       "      <td>1.298475e+05</td>\n",
       "      <td>0.528806</td>\n",
       "    </tr>\n",
       "    <tr>\n",
       "      <th>50%</th>\n",
       "      <td>6.370010e+05</td>\n",
       "      <td>0.305028</td>\n",
       "      <td>3.574335e+05</td>\n",
       "      <td>0.566085</td>\n",
       "    </tr>\n",
       "    <tr>\n",
       "      <th>75%</th>\n",
       "      <td>1.345968e+06</td>\n",
       "      <td>0.945278</td>\n",
       "      <td>8.498398e+05</td>\n",
       "      <td>0.594658</td>\n",
       "    </tr>\n",
       "    <tr>\n",
       "      <th>max</th>\n",
       "      <td>4.748320e+06</td>\n",
       "      <td>1.936460</td>\n",
       "      <td>1.015610e+06</td>\n",
       "      <td>0.676287</td>\n",
       "    </tr>\n",
       "  </tbody>\n",
       "</table>\n",
       "</div>"
      ],
      "text/plain": [
       "                  C          Q            PF         LF\n",
       "count  9.000000e+01  90.000000  9.000000e+01  90.000000\n",
       "mean   1.122524e+06   0.544995  4.716830e+05   0.560460\n",
       "std    1.192075e+06   0.533586  3.295029e+05   0.052793\n",
       "min    6.897800e+04   0.037682  1.037950e+05   0.432066\n",
       "25%    2.920460e+05   0.142128  1.298475e+05   0.528806\n",
       "50%    6.370010e+05   0.305028  3.574335e+05   0.566085\n",
       "75%    1.345968e+06   0.945278  8.498398e+05   0.594658\n",
       "max    4.748320e+06   1.936460  1.015610e+06   0.676287"
      ]
     },
     "execution_count": 7,
     "metadata": {},
     "output_type": "execute_result"
    }
   ],
   "source": [
    "dataset.describe()"
   ]
  },
  {
   "cell_type": "markdown",
   "id": "65b0a199",
   "metadata": {},
   "source": [
    "## Pooled OLS method of estimation"
   ]
  },
  {
   "cell_type": "code",
   "execution_count": 8,
   "id": "bbcc326b",
   "metadata": {},
   "outputs": [],
   "source": [
    "from linearmodels import PooledOLS\n",
    "import statsmodels.api as sm"
   ]
  },
  {
   "cell_type": "code",
   "execution_count": 9,
   "id": "dc0bbde2",
   "metadata": {},
   "outputs": [],
   "source": [
    "# Perform PooledOLS\n",
    "exog = sm.add_constant(dataset[['Q','PF','LF']])\n",
    "endog = dataset['C']\n",
    "mod = PooledOLS(endog, exog)\n",
    "pooledOLS_res = mod.fit(cov_type='clustered', cluster_entity=True)"
   ]
  },
  {
   "cell_type": "code",
   "execution_count": 10,
   "id": "9450b0ff",
   "metadata": {},
   "outputs": [
    {
     "data": {
      "text/html": [
       "<table class=\"simpletable\">\n",
       "<caption>PooledOLS Estimation Summary</caption>\n",
       "<tr>\n",
       "  <th>Dep. Variable:</th>            <td>C</td>        <th>  R-squared:         </th>   <td>0.9461</td> \n",
       "</tr>\n",
       "<tr>\n",
       "  <th>Estimator:</th>            <td>PooledOLS</td>    <th>  R-squared (Between):</th>  <td>0.9914</td> \n",
       "</tr>\n",
       "<tr>\n",
       "  <th>No. Observations:</th>        <td>90</td>        <th>  R-squared (Within):</th>   <td>0.8786</td> \n",
       "</tr>\n",
       "<tr>\n",
       "  <th>Date:</th>             <td>Wed, Sep 06 2023</td> <th>  R-squared (Overall):</th>  <td>0.9461</td> \n",
       "</tr>\n",
       "<tr>\n",
       "  <th>Time:</th>                 <td>20:20:40</td>     <th>  Log-likelihood     </th>   <td>-1255.0</td>\n",
       "</tr>\n",
       "<tr>\n",
       "  <th>Cov. Estimator:</th>       <td>Clustered</td>    <th>                     </th>      <td></td>    \n",
       "</tr>\n",
       "<tr>\n",
       "  <th></th>                          <td></td>         <th>  F-statistic:       </th>   <td>503.12</td> \n",
       "</tr>\n",
       "<tr>\n",
       "  <th>Entities:</th>                 <td>6</td>        <th>  P-value            </th>   <td>0.0000</td> \n",
       "</tr>\n",
       "<tr>\n",
       "  <th>Avg Obs:</th>               <td>15.000</td>      <th>  Distribution:      </th>   <td>F(3,86)</td>\n",
       "</tr>\n",
       "<tr>\n",
       "  <th>Min Obs:</th>               <td>15.000</td>      <th>                     </th>      <td></td>    \n",
       "</tr>\n",
       "<tr>\n",
       "  <th>Max Obs:</th>               <td>15.000</td>      <th>  F-statistic (robust):</th> <td>2144.2</td> \n",
       "</tr>\n",
       "<tr>\n",
       "  <th></th>                          <td></td>         <th>  P-value            </th>   <td>0.0000</td> \n",
       "</tr>\n",
       "<tr>\n",
       "  <th>Time periods:</th>            <td>15</td>        <th>  Distribution:      </th>   <td>F(3,86)</td>\n",
       "</tr>\n",
       "<tr>\n",
       "  <th>Avg Obs:</th>               <td>6.0000</td>      <th>                     </th>      <td></td>    \n",
       "</tr>\n",
       "<tr>\n",
       "  <th>Min Obs:</th>               <td>6.0000</td>      <th>                     </th>      <td></td>    \n",
       "</tr>\n",
       "<tr>\n",
       "  <th>Max Obs:</th>               <td>6.0000</td>      <th>                     </th>      <td></td>    \n",
       "</tr>\n",
       "<tr>\n",
       "  <th></th>                          <td></td>         <th>                     </th>      <td></td>    \n",
       "</tr>\n",
       "</table>\n",
       "<table class=\"simpletable\">\n",
       "<caption>Parameter Estimates</caption>\n",
       "<tr>\n",
       "    <td></td>     <th>Parameter</th> <th>Std. Err.</th> <th>T-stat</th>  <th>P-value</th>  <th>Lower CI</th>   <th>Upper CI</th> \n",
       "</tr>\n",
       "<tr>\n",
       "  <th>const</th>  <td>1.159e+06</td> <td>4.179e+05</td> <td>2.7725</td>  <td>0.0068</td>   <td>3.279e+05</td>  <td>1.989e+06</td>\n",
       "</tr>\n",
       "<tr>\n",
       "  <th>Q</th>      <td>2.026e+06</td> <td>8.134e+04</td> <td>24.910</td>  <td>0.0000</td>   <td>1.864e+06</td>  <td>2.188e+06</td>\n",
       "</tr>\n",
       "<tr>\n",
       "  <th>PF</th>      <td>1.2253</td>    <td>0.3568</td>   <td>3.4345</td>  <td>0.0009</td>    <td>0.5161</td>     <td>1.9346</td>  \n",
       "</tr>\n",
       "<tr>\n",
       "  <th>LF</th>    <td>-3.066e+06</td> <td>1.04e+06</td>  <td>-2.9466</td> <td>0.0041</td>  <td>-5.134e+06</td> <td>-9.974e+05</td>\n",
       "</tr>\n",
       "</table><br/>id: 0x21a93357510"
      ],
      "text/plain": [
       "                          PooledOLS Estimation Summary                          \n",
       "================================================================================\n",
       "Dep. Variable:                      C   R-squared:                        0.9461\n",
       "Estimator:                  PooledOLS   R-squared (Between):              0.9914\n",
       "No. Observations:                  90   R-squared (Within):               0.8786\n",
       "Date:                Wed, Sep 06 2023   R-squared (Overall):              0.9461\n",
       "Time:                        20:20:40   Log-likelihood                   -1255.0\n",
       "Cov. Estimator:             Clustered                                           \n",
       "                                        F-statistic:                      503.12\n",
       "Entities:                           6   P-value                           0.0000\n",
       "Avg Obs:                       15.000   Distribution:                    F(3,86)\n",
       "Min Obs:                       15.000                                           \n",
       "Max Obs:                       15.000   F-statistic (robust):             2144.2\n",
       "                                        P-value                           0.0000\n",
       "Time periods:                      15   Distribution:                    F(3,86)\n",
       "Avg Obs:                       6.0000                                           \n",
       "Min Obs:                       6.0000                                           \n",
       "Max Obs:                       6.0000                                           \n",
       "                                                                                \n",
       "                             Parameter Estimates                              \n",
       "==============================================================================\n",
       "            Parameter  Std. Err.     T-stat    P-value    Lower CI    Upper CI\n",
       "------------------------------------------------------------------------------\n",
       "const       1.159e+06  4.179e+05     2.7725     0.0068   3.279e+05   1.989e+06\n",
       "Q           2.026e+06  8.134e+04     24.910     0.0000   1.864e+06   2.188e+06\n",
       "PF             1.2253     0.3568     3.4345     0.0009      0.5161      1.9346\n",
       "LF         -3.066e+06   1.04e+06    -2.9466     0.0041  -5.134e+06  -9.974e+05\n",
       "==============================================================================\n",
       "PanelResults, id: 0x21a93357510"
      ]
     },
     "execution_count": 10,
     "metadata": {},
     "output_type": "execute_result"
    }
   ],
   "source": [
    "pooledOLS_res"
   ]
  },
  {
   "cell_type": "markdown",
   "id": "094444dd",
   "metadata": {},
   "source": [
    "## Checking Homoscedasticity"
   ]
  },
  {
   "cell_type": "code",
   "execution_count": 12,
   "id": "db66df1f",
   "metadata": {},
   "outputs": [],
   "source": [
    "import seaborn as sns\n",
    "import matplotlib.pyplot as plt"
   ]
  },
  {
   "cell_type": "code",
   "execution_count": 13,
   "id": "35274207",
   "metadata": {},
   "outputs": [
    {
     "data": {
      "image/png": "[encoded data removed]",
      "text/plain": [
       "<Figure size 640x480 with 1 Axes>"
      ]
     },
     "metadata": {},
     "output_type": "display_data"
    }
   ],
   "source": [
    "# 3A. Homoskedasticity\n",
    "fig=sns.regplot(x=pooledOLS_res.fitted_values, y=pooledOLS_res.resids, color = 'blue')\n",
    "fig.set(xlabel='Predicted values',ylabel='Residuals',title='Homoscedasticity Checking')\n",
    "plt.savefig('Plot_1.pdf')"
   ]
  },
  {
   "cell_type": "markdown",
   "id": "178a3c0d",
   "metadata": {},
   "source": [
    "* Heteroscedasticity is Present"
   ]
  },
  {
   "cell_type": "markdown",
   "id": "75f09379",
   "metadata": {},
   "source": [
    "## Checking presence of serial correlation"
   ]
  },
  {
   "cell_type": "code",
   "execution_count": 14,
   "id": "1ea3a9f9",
   "metadata": {},
   "outputs": [],
   "source": [
    "# 3.B Non-Autocorrelation\n",
    "# Durbin-Watson-Test\n",
    "from statsmodels.stats.stattools import durbin_watson\n",
    "pooled_OLS_dataset = pd.concat([dataset, pooledOLS_res.resids], axis=1)\n",
    "pooled_OLS_dataset = pooled_OLS_dataset.drop(['I'], axis = 1).fillna(0)\n",
    "durbin_watson_test_results = durbin_watson(pooled_OLS_dataset['residual']) "
   ]
  },
  {
   "cell_type": "code",
   "execution_count": 15,
   "id": "722875d8",
   "metadata": {},
   "outputs": [
    {
     "data": {
      "text/plain": [
       "0.43416243845184355"
      ]
     },
     "execution_count": 15,
     "metadata": {},
     "output_type": "execute_result"
    }
   ],
   "source": [
    "#print resullts\n",
    "durbin_watson_test_results"
   ]
  },
  {
   "cell_type": "markdown",
   "id": "1722efa8",
   "metadata": {},
   "source": [
    "* As DW statistics value is <2, serial correlation is present"
   ]
  },
  {
   "cell_type": "markdown",
   "id": "67adf629",
   "metadata": {},
   "source": [
    "## Random effect model"
   ]
  },
  {
   "cell_type": "code",
   "execution_count": 16,
   "id": "5f6ad644",
   "metadata": {},
   "outputs": [],
   "source": [
    "#RE model\n",
    "from linearmodels import RandomEffects"
   ]
  },
  {
   "cell_type": "code",
   "execution_count": 17,
   "id": "3e26f8aa",
   "metadata": {},
   "outputs": [],
   "source": [
    "# random effects model\n",
    "model_re = RandomEffects(endog, exog) \n",
    "re_res = model_re.fit() "
   ]
  },
  {
   "cell_type": "code",
   "execution_count": 18,
   "id": "f08326aa",
   "metadata": {},
   "outputs": [
    {
     "data": {
      "text/html": [
       "<table class=\"simpletable\">\n",
       "<caption>RandomEffects Estimation Summary</caption>\n",
       "<tr>\n",
       "  <th>Dep. Variable:</th>            <td>C</td>        <th>  R-squared:         </th>   <td>0.9113</td> \n",
       "</tr>\n",
       "<tr>\n",
       "  <th>Estimator:</th>          <td>RandomEffects</td>  <th>  R-squared (Between):</th>  <td>0.9570</td> \n",
       "</tr>\n",
       "<tr>\n",
       "  <th>No. Observations:</th>        <td>90</td>        <th>  R-squared (Within):</th>   <td>0.8974</td> \n",
       "</tr>\n",
       "<tr>\n",
       "  <th>Date:</th>             <td>Wed, Sep 06 2023</td> <th>  R-squared (Overall):</th>  <td>0.9331</td> \n",
       "</tr>\n",
       "<tr>\n",
       "  <th>Time:</th>                 <td>20:23:03</td>     <th>  Log-likelihood     </th>   <td>-1248.3</td>\n",
       "</tr>\n",
       "<tr>\n",
       "  <th>Cov. Estimator:</th>      <td>Unadjusted</td>    <th>                     </th>      <td></td>    \n",
       "</tr>\n",
       "<tr>\n",
       "  <th></th>                          <td></td>         <th>  F-statistic:       </th>   <td>294.50</td> \n",
       "</tr>\n",
       "<tr>\n",
       "  <th>Entities:</th>                 <td>6</td>        <th>  P-value            </th>   <td>0.0000</td> \n",
       "</tr>\n",
       "<tr>\n",
       "  <th>Avg Obs:</th>               <td>15.000</td>      <th>  Distribution:      </th>   <td>F(3,86)</td>\n",
       "</tr>\n",
       "<tr>\n",
       "  <th>Min Obs:</th>               <td>15.000</td>      <th>                     </th>      <td></td>    \n",
       "</tr>\n",
       "<tr>\n",
       "  <th>Max Obs:</th>               <td>15.000</td>      <th>  F-statistic (robust):</th> <td>294.50</td> \n",
       "</tr>\n",
       "<tr>\n",
       "  <th></th>                          <td></td>         <th>  P-value            </th>   <td>0.0000</td> \n",
       "</tr>\n",
       "<tr>\n",
       "  <th>Time periods:</th>            <td>15</td>        <th>  Distribution:      </th>   <td>F(3,86)</td>\n",
       "</tr>\n",
       "<tr>\n",
       "  <th>Avg Obs:</th>               <td>6.0000</td>      <th>                     </th>      <td></td>    \n",
       "</tr>\n",
       "<tr>\n",
       "  <th>Min Obs:</th>               <td>6.0000</td>      <th>                     </th>      <td></td>    \n",
       "</tr>\n",
       "<tr>\n",
       "  <th>Max Obs:</th>               <td>6.0000</td>      <th>                     </th>      <td></td>    \n",
       "</tr>\n",
       "<tr>\n",
       "  <th></th>                          <td></td>         <th>                     </th>      <td></td>    \n",
       "</tr>\n",
       "</table>\n",
       "<table class=\"simpletable\">\n",
       "<caption>Parameter Estimates</caption>\n",
       "<tr>\n",
       "    <td></td>     <th>Parameter</th> <th>Std. Err.</th> <th>T-stat</th>  <th>P-value</th>  <th>Lower CI</th>   <th>Upper CI</th> \n",
       "</tr>\n",
       "<tr>\n",
       "  <th>const</th>  <td>1.074e+06</td> <td>3.775e+05</td> <td>2.8461</td>  <td>0.0055</td>   <td>3.239e+05</td>  <td>1.825e+06</td>\n",
       "</tr>\n",
       "<tr>\n",
       "  <th>Q</th>      <td>2.289e+06</td> <td>1.095e+05</td> <td>20.902</td>  <td>0.0000</td>   <td>2.071e+06</td>  <td>2.506e+06</td>\n",
       "</tr>\n",
       "<tr>\n",
       "  <th>PF</th>      <td>1.1236</td>    <td>0.1034</td>   <td>10.862</td>  <td>0.0000</td>    <td>0.9180</td>     <td>1.3292</td>  \n",
       "</tr>\n",
       "<tr>\n",
       "  <th>LF</th>    <td>-3.085e+06</td> <td>7.257e+05</td> <td>-4.2512</td> <td>0.0001</td>  <td>-4.528e+06</td> <td>-1.642e+06</td>\n",
       "</tr>\n",
       "</table><br/>id: 0x21a9a25cf50"
      ],
      "text/plain": [
       "                        RandomEffects Estimation Summary                        \n",
       "================================================================================\n",
       "Dep. Variable:                      C   R-squared:                        0.9113\n",
       "Estimator:              RandomEffects   R-squared (Between):              0.9570\n",
       "No. Observations:                  90   R-squared (Within):               0.8974\n",
       "Date:                Wed, Sep 06 2023   R-squared (Overall):              0.9331\n",
       "Time:                        20:23:03   Log-likelihood                   -1248.3\n",
       "Cov. Estimator:            Unadjusted                                           \n",
       "                                        F-statistic:                      294.50\n",
       "Entities:                           6   P-value                           0.0000\n",
       "Avg Obs:                       15.000   Distribution:                    F(3,86)\n",
       "Min Obs:                       15.000                                           \n",
       "Max Obs:                       15.000   F-statistic (robust):             294.50\n",
       "                                        P-value                           0.0000\n",
       "Time periods:                      15   Distribution:                    F(3,86)\n",
       "Avg Obs:                       6.0000                                           \n",
       "Min Obs:                       6.0000                                           \n",
       "Max Obs:                       6.0000                                           \n",
       "                                                                                \n",
       "                             Parameter Estimates                              \n",
       "==============================================================================\n",
       "            Parameter  Std. Err.     T-stat    P-value    Lower CI    Upper CI\n",
       "------------------------------------------------------------------------------\n",
       "const       1.074e+06  3.775e+05     2.8461     0.0055   3.239e+05   1.825e+06\n",
       "Q           2.289e+06  1.095e+05     20.902     0.0000   2.071e+06   2.506e+06\n",
       "PF             1.1236     0.1034     10.862     0.0000      0.9180      1.3292\n",
       "LF         -3.085e+06  7.257e+05    -4.2512     0.0001  -4.528e+06  -1.642e+06\n",
       "==============================================================================\n",
       "RandomEffectsResults, id: 0x21a9a25cf50"
      ]
     },
     "execution_count": 18,
     "metadata": {},
     "output_type": "execute_result"
    }
   ],
   "source": [
    "#print resullts\n",
    "re_res"
   ]
  },
  {
   "cell_type": "markdown",
   "id": "792524f4",
   "metadata": {},
   "source": [
    "## Fixed effect model"
   ]
  },
  {
   "cell_type": "markdown",
   "id": "027af660",
   "metadata": {},
   "source": [
    "### Fixed effect model with dummy variable teardown"
   ]
  },
  {
   "cell_type": "code",
   "execution_count": 21,
   "id": "5f001fa5",
   "metadata": {},
   "outputs": [],
   "source": [
    "from linearmodels import PooledOLS\n",
    "import statsmodels.api as sm"
   ]
  },
  {
   "cell_type": "code",
   "execution_count": 19,
   "id": "e99aa3a2",
   "metadata": {},
   "outputs": [],
   "source": [
    "# Perform PooledOLS\n",
    "exog_1= sm.add_constant(dataset[['Q','PF','LF','I']])\n",
    "endog = dataset['C']\n",
    "mod_fe = PooledOLS(endog, exog_1)\n",
    "mod_fe_res = mod_fe.fit(cov_type='clustered', cluster_entity=True)"
   ]
  },
  {
   "cell_type": "code",
   "execution_count": 25,
   "id": "314c0144",
   "metadata": {},
   "outputs": [
    {
     "data": {
      "text/html": [
       "<table class=\"simpletable\">\n",
       "<caption>PooledOLS Estimation Summary</caption>\n",
       "<tr>\n",
       "  <th>Dep. Variable:</th>            <td>C</td>        <th>  R-squared:         </th>    <td>0.9716</td>  \n",
       "</tr>\n",
       "<tr>\n",
       "  <th>Estimator:</th>            <td>PooledOLS</td>    <th>  R-squared (Between):</th>   <td>1.0000</td>  \n",
       "</tr>\n",
       "<tr>\n",
       "  <th>No. Observations:</th>        <td>90</td>        <th>  R-squared (Within):</th>    <td>0.9294</td>  \n",
       "</tr>\n",
       "<tr>\n",
       "  <th>Date:</th>             <td>Wed, Sep 06 2023</td> <th>  R-squared (Overall):</th>   <td>0.9716</td>  \n",
       "</tr>\n",
       "<tr>\n",
       "  <th>Time:</th>                 <td>20:23:38</td>     <th>  Log-likelihood     </th>    <td>-1226.1</td> \n",
       "</tr>\n",
       "<tr>\n",
       "  <th>Cov. Estimator:</th>       <td>Clustered</td>    <th>                     </th>       <td></td>     \n",
       "</tr>\n",
       "<tr>\n",
       "  <th></th>                          <td></td>         <th>  F-statistic:       </th>    <td>346.92</td>  \n",
       "</tr>\n",
       "<tr>\n",
       "  <th>Entities:</th>                 <td>6</td>        <th>  P-value            </th>    <td>0.0000</td>  \n",
       "</tr>\n",
       "<tr>\n",
       "  <th>Avg Obs:</th>               <td>15.000</td>      <th>  Distribution:      </th>    <td>F(8,81)</td> \n",
       "</tr>\n",
       "<tr>\n",
       "  <th>Min Obs:</th>               <td>15.000</td>      <th>                     </th>       <td></td>     \n",
       "</tr>\n",
       "<tr>\n",
       "  <th>Max Obs:</th>               <td>15.000</td>      <th>  F-statistic (robust):</th> <td>8.414e+16</td>\n",
       "</tr>\n",
       "<tr>\n",
       "  <th></th>                          <td></td>         <th>  P-value            </th>    <td>0.0000</td>  \n",
       "</tr>\n",
       "<tr>\n",
       "  <th>Time periods:</th>            <td>15</td>        <th>  Distribution:      </th>    <td>F(8,81)</td> \n",
       "</tr>\n",
       "<tr>\n",
       "  <th>Avg Obs:</th>               <td>6.0000</td>      <th>                     </th>       <td></td>     \n",
       "</tr>\n",
       "<tr>\n",
       "  <th>Min Obs:</th>               <td>6.0000</td>      <th>                     </th>       <td></td>     \n",
       "</tr>\n",
       "<tr>\n",
       "  <th>Max Obs:</th>               <td>6.0000</td>      <th>                     </th>       <td></td>     \n",
       "</tr>\n",
       "<tr>\n",
       "  <th></th>                          <td></td>         <th>                     </th>       <td></td>     \n",
       "</tr>\n",
       "</table>\n",
       "<table class=\"simpletable\">\n",
       "<caption>Parameter Estimates</caption>\n",
       "<tr>\n",
       "    <td></td>     <th>Parameter</th> <th>Std. Err.</th> <th>T-stat</th>  <th>P-value</th>  <th>Lower CI</th>   <th>Upper CI</th> \n",
       "</tr>\n",
       "<tr>\n",
       "  <th>const</th> <td>-1.312e+05</td> <td>8.545e+05</td> <td>-0.1536</td> <td>0.8783</td>  <td>-1.831e+06</td>  <td>1.569e+06</td>\n",
       "</tr>\n",
       "<tr>\n",
       "  <th>Q</th>      <td>3.319e+06</td> <td>1.668e+05</td> <td>19.898</td>  <td>0.0000</td>   <td>2.987e+06</td>  <td>3.651e+06</td>\n",
       "</tr>\n",
       "<tr>\n",
       "  <th>PF</th>      <td>0.7731</td>    <td>0.2797</td>   <td>2.7638</td>  <td>0.0071</td>    <td>0.2165</td>     <td>1.3296</td>  \n",
       "</tr>\n",
       "<tr>\n",
       "  <th>LF</th>    <td>-3.797e+06</td> <td>1.704e+06</td> <td>-2.2291</td> <td>0.0286</td>  <td>-7.187e+06</td> <td>-4.079e+05</td>\n",
       "</tr>\n",
       "<tr>\n",
       "  <th>I.2</th>    <td>6.017e+05</td> <td>8.93e+04</td>  <td>6.7382</td>  <td>0.0000</td>   <td>4.241e+05</td>  <td>7.794e+05</td>\n",
       "</tr>\n",
       "<tr>\n",
       "  <th>I.3</th>    <td>1.337e+06</td> <td>1.624e+05</td> <td>8.2352</td>  <td>0.0000</td>   <td>1.014e+06</td>  <td>1.66e+06</td> \n",
       "</tr>\n",
       "<tr>\n",
       "  <th>I.4</th>    <td>1.778e+06</td> <td>1.908e+05</td> <td>9.3147</td>  <td>0.0000</td>   <td>1.398e+06</td>  <td>2.157e+06</td>\n",
       "</tr>\n",
       "<tr>\n",
       "  <th>I.5</th>    <td>1.828e+06</td> <td>2.071e+05</td> <td>8.8285</td>  <td>0.0000</td>   <td>1.416e+06</td>  <td>2.24e+06</td> \n",
       "</tr>\n",
       "<tr>\n",
       "  <th>I.6</th>    <td>1.706e+06</td> <td>2.155e+05</td> <td>7.9180</td>  <td>0.0000</td>   <td>1.278e+06</td>  <td>2.135e+06</td>\n",
       "</tr>\n",
       "</table><br/>id: 0x21a9a2970d0"
      ],
      "text/plain": [
       "                          PooledOLS Estimation Summary                          \n",
       "================================================================================\n",
       "Dep. Variable:                      C   R-squared:                        0.9716\n",
       "Estimator:                  PooledOLS   R-squared (Between):              1.0000\n",
       "No. Observations:                  90   R-squared (Within):               0.9294\n",
       "Date:                Wed, Sep 06 2023   R-squared (Overall):              0.9716\n",
       "Time:                        20:23:38   Log-likelihood                   -1226.1\n",
       "Cov. Estimator:             Clustered                                           \n",
       "                                        F-statistic:                      346.92\n",
       "Entities:                           6   P-value                           0.0000\n",
       "Avg Obs:                       15.000   Distribution:                    F(8,81)\n",
       "Min Obs:                       15.000                                           \n",
       "Max Obs:                       15.000   F-statistic (robust):          8.414e+16\n",
       "                                        P-value                           0.0000\n",
       "Time periods:                      15   Distribution:                    F(8,81)\n",
       "Avg Obs:                       6.0000                                           \n",
       "Min Obs:                       6.0000                                           \n",
       "Max Obs:                       6.0000                                           \n",
       "                                                                                \n",
       "                             Parameter Estimates                              \n",
       "==============================================================================\n",
       "            Parameter  Std. Err.     T-stat    P-value    Lower CI    Upper CI\n",
       "------------------------------------------------------------------------------\n",
       "const      -1.312e+05  8.545e+05    -0.1536     0.8783  -1.831e+06   1.569e+06\n",
       "Q           3.319e+06  1.668e+05     19.898     0.0000   2.987e+06   3.651e+06\n",
       "PF             0.7731     0.2797     2.7638     0.0071      0.2165      1.3296\n",
       "LF         -3.797e+06  1.704e+06    -2.2291     0.0286  -7.187e+06  -4.079e+05\n",
       "I.2         6.017e+05   8.93e+04     6.7382     0.0000   4.241e+05   7.794e+05\n",
       "I.3         1.337e+06  1.624e+05     8.2352     0.0000   1.014e+06    1.66e+06\n",
       "I.4         1.778e+06  1.908e+05     9.3147     0.0000   1.398e+06   2.157e+06\n",
       "I.5         1.828e+06  2.071e+05     8.8285     0.0000   1.416e+06    2.24e+06\n",
       "I.6         1.706e+06  2.155e+05     7.9180     0.0000   1.278e+06   2.135e+06\n",
       "==============================================================================\n",
       "PanelResults, id: 0x21a9a2970d0"
      ]
     },
     "execution_count": 25,
     "metadata": {},
     "output_type": "execute_result"
    }
   ],
   "source": [
    "#print resullts\n",
    "mod_fe_res"
   ]
  },
  {
   "cell_type": "markdown",
   "id": "9f47c795",
   "metadata": {},
   "source": [
    "### Fixed effect model without dummy variable teardown"
   ]
  },
  {
   "cell_type": "code",
   "execution_count": 22,
   "id": "134ff6a7",
   "metadata": {},
   "outputs": [],
   "source": [
    "from linearmodels.panel import PanelOLS"
   ]
  },
  {
   "cell_type": "code",
   "execution_count": 23,
   "id": "ac787899",
   "metadata": {},
   "outputs": [],
   "source": [
    "#FE model showing constribution of each dummy variable \n",
    "model_fe = PanelOLS(endog, exog,entity_effects=True) \n",
    "fe_res = model_fe.fit() "
   ]
  },
  {
   "cell_type": "code",
   "execution_count": 24,
   "id": "23aa5256",
   "metadata": {},
   "outputs": [
    {
     "data": {
      "text/html": [
       "<table class=\"simpletable\">\n",
       "<caption>PanelOLS Estimation Summary</caption>\n",
       "<tr>\n",
       "  <th>Dep. Variable:</th>            <td>C</td>        <th>  R-squared:         </th>   <td>0.9294</td> \n",
       "</tr>\n",
       "<tr>\n",
       "  <th>Estimator:</th>            <td>PanelOLS</td>     <th>  R-squared (Between):</th>  <td>0.4449</td> \n",
       "</tr>\n",
       "<tr>\n",
       "  <th>No. Observations:</th>        <td>90</td>        <th>  R-squared (Within):</th>   <td>0.9294</td> \n",
       "</tr>\n",
       "<tr>\n",
       "  <th>Date:</th>             <td>Wed, Sep 06 2023</td> <th>  R-squared (Overall):</th>  <td>0.6394</td> \n",
       "</tr>\n",
       "<tr>\n",
       "  <th>Time:</th>                 <td>20:24:16</td>     <th>  Log-likelihood     </th>   <td>-1226.1</td>\n",
       "</tr>\n",
       "<tr>\n",
       "  <th>Cov. Estimator:</th>      <td>Unadjusted</td>    <th>                     </th>      <td></td>    \n",
       "</tr>\n",
       "<tr>\n",
       "  <th></th>                          <td></td>         <th>  F-statistic:       </th>   <td>355.25</td> \n",
       "</tr>\n",
       "<tr>\n",
       "  <th>Entities:</th>                 <td>6</td>        <th>  P-value            </th>   <td>0.0000</td> \n",
       "</tr>\n",
       "<tr>\n",
       "  <th>Avg Obs:</th>               <td>15.000</td>      <th>  Distribution:      </th>   <td>F(3,81)</td>\n",
       "</tr>\n",
       "<tr>\n",
       "  <th>Min Obs:</th>               <td>15.000</td>      <th>                     </th>      <td></td>    \n",
       "</tr>\n",
       "<tr>\n",
       "  <th>Max Obs:</th>               <td>15.000</td>      <th>  F-statistic (robust):</th> <td>355.25</td> \n",
       "</tr>\n",
       "<tr>\n",
       "  <th></th>                          <td></td>         <th>  P-value            </th>   <td>0.0000</td> \n",
       "</tr>\n",
       "<tr>\n",
       "  <th>Time periods:</th>            <td>15</td>        <th>  Distribution:      </th>   <td>F(3,81)</td>\n",
       "</tr>\n",
       "<tr>\n",
       "  <th>Avg Obs:</th>               <td>6.0000</td>      <th>                     </th>      <td></td>    \n",
       "</tr>\n",
       "<tr>\n",
       "  <th>Min Obs:</th>               <td>6.0000</td>      <th>                     </th>      <td></td>    \n",
       "</tr>\n",
       "<tr>\n",
       "  <th>Max Obs:</th>               <td>6.0000</td>      <th>                     </th>      <td></td>    \n",
       "</tr>\n",
       "<tr>\n",
       "  <th></th>                          <td></td>         <th>                     </th>      <td></td>    \n",
       "</tr>\n",
       "</table>\n",
       "<table class=\"simpletable\">\n",
       "<caption>Parameter Estimates</caption>\n",
       "<tr>\n",
       "    <td></td>     <th>Parameter</th> <th>Std. Err.</th> <th>T-stat</th>  <th>P-value</th>  <th>Lower CI</th>   <th>Upper CI</th> \n",
       "</tr>\n",
       "<tr>\n",
       "  <th>const</th>  <td>1.077e+06</td> <td>3.108e+05</td> <td>3.4662</td>  <td>0.0008</td>   <td>4.589e+05</td>  <td>1.696e+06</td>\n",
       "</tr>\n",
       "<tr>\n",
       "  <th>Q</th>      <td>3.319e+06</td> <td>1.714e+05</td> <td>19.369</td>  <td>0.0000</td>   <td>2.978e+06</td>  <td>3.66e+06</td> \n",
       "</tr>\n",
       "<tr>\n",
       "  <th>PF</th>      <td>0.7731</td>    <td>0.0973</td>   <td>7.9437</td>  <td>0.0000</td>    <td>0.5794</td>     <td>0.9667</td>  \n",
       "</tr>\n",
       "<tr>\n",
       "  <th>LF</th>    <td>-3.797e+06</td> <td>6.138e+05</td> <td>-6.1869</td> <td>0.0000</td>  <td>-5.019e+06</td> <td>-2.576e+06</td>\n",
       "</tr>\n",
       "</table><br/><br/>F-test for Poolability: 14.595<br/>P-value: 0.0000<br/>Distribution: F(5,81)<br/><br/>Included effects: Entity<br/>id: 0x21a9a27e110"
      ],
      "text/plain": [
       "                          PanelOLS Estimation Summary                           \n",
       "================================================================================\n",
       "Dep. Variable:                      C   R-squared:                        0.9294\n",
       "Estimator:                   PanelOLS   R-squared (Between):              0.4449\n",
       "No. Observations:                  90   R-squared (Within):               0.9294\n",
       "Date:                Wed, Sep 06 2023   R-squared (Overall):              0.6394\n",
       "Time:                        20:24:16   Log-likelihood                   -1226.1\n",
       "Cov. Estimator:            Unadjusted                                           \n",
       "                                        F-statistic:                      355.25\n",
       "Entities:                           6   P-value                           0.0000\n",
       "Avg Obs:                       15.000   Distribution:                    F(3,81)\n",
       "Min Obs:                       15.000                                           \n",
       "Max Obs:                       15.000   F-statistic (robust):             355.25\n",
       "                                        P-value                           0.0000\n",
       "Time periods:                      15   Distribution:                    F(3,81)\n",
       "Avg Obs:                       6.0000                                           \n",
       "Min Obs:                       6.0000                                           \n",
       "Max Obs:                       6.0000                                           \n",
       "                                                                                \n",
       "                             Parameter Estimates                              \n",
       "==============================================================================\n",
       "            Parameter  Std. Err.     T-stat    P-value    Lower CI    Upper CI\n",
       "------------------------------------------------------------------------------\n",
       "const       1.077e+06  3.108e+05     3.4662     0.0008   4.589e+05   1.696e+06\n",
       "Q           3.319e+06  1.714e+05     19.369     0.0000   2.978e+06    3.66e+06\n",
       "PF             0.7731     0.0973     7.9437     0.0000      0.5794      0.9667\n",
       "LF         -3.797e+06  6.138e+05    -6.1869     0.0000  -5.019e+06  -2.576e+06\n",
       "==============================================================================\n",
       "\n",
       "F-test for Poolability: 14.595\n",
       "P-value: 0.0000\n",
       "Distribution: F(5,81)\n",
       "\n",
       "Included effects: Entity\n",
       "PanelEffectsResults, id: 0x21a9a27e110"
      ]
     },
     "execution_count": 24,
     "metadata": {},
     "output_type": "execute_result"
    }
   ],
   "source": [
    "#print resullts\n",
    "fe_res"
   ]
  },
  {
   "cell_type": "markdown",
   "id": "7e3e7709",
   "metadata": {},
   "source": [
    "## Hausman test for selection of FEM vs REM"
   ]
  },
  {
   "cell_type": "code",
   "execution_count": 26,
   "id": "3f15da34",
   "metadata": {},
   "outputs": [],
   "source": [
    "import numpy.linalg as la\n",
    "from scipy import stats\n",
    "import numpy as np"
   ]
  },
  {
   "cell_type": "code",
   "execution_count": 27,
   "id": "8226aeee",
   "metadata": {},
   "outputs": [],
   "source": [
    "#Perform Hausman-Test\n",
    "def hausman(fe, re):\n",
    "    b= fe.params\n",
    "    B = re.params\n",
    "    v_b = fe.cov\n",
    "    v_B = re.cov\n",
    "    df = b[np.abs(b) < 1e8].size\n",
    "    chi2 = np.dot((b - B).T, la.inv(v_b - v_B).dot(b - B)) \n",
    "    pval = stats.chi2.sf(chi2, df)\n",
    "    return chi2, df, pval"
   ]
  },
  {
   "cell_type": "code",
   "execution_count": 28,
   "id": "8e262246",
   "metadata": {},
   "outputs": [],
   "source": [
    "hausman_results = hausman(fe_res, re_res) "
   ]
  },
  {
   "cell_type": "code",
   "execution_count": 29,
   "id": "0232d627",
   "metadata": {},
   "outputs": [
    {
     "name": "stdout",
     "output_type": "stream",
     "text": [
      "chi-Squared: 60.869537603133686\n",
      "degrees of freedom:4\n",
      "p-Value:1.904399777227233e-12\n"
     ]
    }
   ],
   "source": [
    "#print resullts\n",
    "print('chi-Squared: ' + str(hausman_results[0]))\n",
    "print('degrees of freedom:' + str(hausman_results[1]))\n",
    "print('p-Value:' + str(hausman_results[2]))"
   ]
  },
  {
   "cell_type": "markdown",
   "id": "4e6c8e16",
   "metadata": {},
   "source": [
    "Thus, fixed effect model is preferred"
   ]
  }
 ],
 "metadata": {
  "kernelspec": {
   "display_name": "Python 3 (ipykernel)",
   "language": "python",
   "name": "python3"
  },
  "language_info": {
   "codemirror_mode": {
    "name": "ipython",
    "version": 3
   },
   "file_extension": ".py",
   "mimetype": "text/x-python",
   "name": "python",
   "nbconvert_exporter": "python",
   "pygments_lexer": "ipython3",
   "version": "3.11.3"
  }
 },
 "nbformat": 4,
 "nbformat_minor": 5
}
